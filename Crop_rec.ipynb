{
 "cells": [
  {
   "cell_type": "code",
   "execution_count": 33,
   "id": "d8fba88e-0331-4e3e-87da-e828c23e566f",
   "metadata": {},
   "outputs": [],
   "source": [
    "from __future__ import print_function\n",
    "import pandas as pd\n",
    "import numpy as np\n",
    "import matplotlib.pyplot as plt\n",
    "import seaborn as sns\n",
    "from sklearn.metrics import classification_report\n",
    "from sklearn import metrics\n",
    "from sklearn import tree\n",
    "import warnings\n",
    "warnings.filterwarnings('ignore')"
   ]
  },
  {
   "cell_type": "code",
   "execution_count": 34,
   "id": "406745a4-e827-4362-8f2c-fd6ef6cc67a4",
   "metadata": {},
   "outputs": [],
   "source": [
    "df = pd.read_csv('Dataset.csv')"
   ]
  },
  {
   "cell_type": "code",
   "execution_count": 35,
   "id": "f015d921-c14f-49d6-a692-86b22f039739",
   "metadata": {},
   "outputs": [
    {
     "data": {
      "text/html": [
       "<div>\n",
       "<style scoped>\n",
       "    .dataframe tbody tr th:only-of-type {\n",
       "        vertical-align: middle;\n",
       "    }\n",
       "\n",
       "    .dataframe tbody tr th {\n",
       "        vertical-align: top;\n",
       "    }\n",
       "\n",
       "    .dataframe thead th {\n",
       "        text-align: right;\n",
       "    }\n",
       "</style>\n",
       "<table border=\"1\" class=\"dataframe\">\n",
       "  <thead>\n",
       "    <tr style=\"text-align: right;\">\n",
       "      <th></th>\n",
       "      <th>temperature</th>\n",
       "      <th>humidity</th>\n",
       "      <th>ph</th>\n",
       "      <th>rainfall</th>\n",
       "      <th>label</th>\n",
       "    </tr>\n",
       "  </thead>\n",
       "  <tbody>\n",
       "    <tr>\n",
       "      <th>0</th>\n",
       "      <td>20.879744</td>\n",
       "      <td>82.002744</td>\n",
       "      <td>6.502985</td>\n",
       "      <td>202.935536</td>\n",
       "      <td>rice</td>\n",
       "    </tr>\n",
       "    <tr>\n",
       "      <th>1</th>\n",
       "      <td>21.770462</td>\n",
       "      <td>80.319644</td>\n",
       "      <td>7.038096</td>\n",
       "      <td>226.655537</td>\n",
       "      <td>rice</td>\n",
       "    </tr>\n",
       "    <tr>\n",
       "      <th>2</th>\n",
       "      <td>23.004459</td>\n",
       "      <td>82.320763</td>\n",
       "      <td>7.840207</td>\n",
       "      <td>263.964248</td>\n",
       "      <td>rice</td>\n",
       "    </tr>\n",
       "    <tr>\n",
       "      <th>3</th>\n",
       "      <td>26.491096</td>\n",
       "      <td>80.158363</td>\n",
       "      <td>6.980401</td>\n",
       "      <td>242.864034</td>\n",
       "      <td>rice</td>\n",
       "    </tr>\n",
       "    <tr>\n",
       "      <th>4</th>\n",
       "      <td>20.130175</td>\n",
       "      <td>81.604873</td>\n",
       "      <td>7.628473</td>\n",
       "      <td>262.717340</td>\n",
       "      <td>rice</td>\n",
       "    </tr>\n",
       "  </tbody>\n",
       "</table>\n",
       "</div>"
      ],
      "text/plain": [
       "   temperature   humidity        ph    rainfall label\n",
       "0    20.879744  82.002744  6.502985  202.935536  rice\n",
       "1    21.770462  80.319644  7.038096  226.655537  rice\n",
       "2    23.004459  82.320763  7.840207  263.964248  rice\n",
       "3    26.491096  80.158363  6.980401  242.864034  rice\n",
       "4    20.130175  81.604873  7.628473  262.717340  rice"
      ]
     },
     "execution_count": 35,
     "metadata": {},
     "output_type": "execute_result"
    }
   ],
   "source": [
    "df.head()"
   ]
  },
  {
   "cell_type": "code",
   "execution_count": 36,
   "id": "4444ddb8-bc2a-476b-b331-1dd6360a7e4a",
   "metadata": {},
   "outputs": [
    {
     "data": {
      "text/html": [
       "<div>\n",
       "<style scoped>\n",
       "    .dataframe tbody tr th:only-of-type {\n",
       "        vertical-align: middle;\n",
       "    }\n",
       "\n",
       "    .dataframe tbody tr th {\n",
       "        vertical-align: top;\n",
       "    }\n",
       "\n",
       "    .dataframe thead th {\n",
       "        text-align: right;\n",
       "    }\n",
       "</style>\n",
       "<table border=\"1\" class=\"dataframe\">\n",
       "  <thead>\n",
       "    <tr style=\"text-align: right;\">\n",
       "      <th></th>\n",
       "      <th>temperature</th>\n",
       "      <th>humidity</th>\n",
       "      <th>ph</th>\n",
       "      <th>rainfall</th>\n",
       "      <th>label</th>\n",
       "    </tr>\n",
       "  </thead>\n",
       "  <tbody>\n",
       "    <tr>\n",
       "      <th>2195</th>\n",
       "      <td>26.774637</td>\n",
       "      <td>66.413269</td>\n",
       "      <td>6.780064</td>\n",
       "      <td>177.774507</td>\n",
       "      <td>coffee</td>\n",
       "    </tr>\n",
       "    <tr>\n",
       "      <th>2196</th>\n",
       "      <td>27.417112</td>\n",
       "      <td>56.636362</td>\n",
       "      <td>6.086922</td>\n",
       "      <td>127.924610</td>\n",
       "      <td>coffee</td>\n",
       "    </tr>\n",
       "    <tr>\n",
       "      <th>2197</th>\n",
       "      <td>24.131797</td>\n",
       "      <td>67.225123</td>\n",
       "      <td>6.362608</td>\n",
       "      <td>173.322839</td>\n",
       "      <td>coffee</td>\n",
       "    </tr>\n",
       "    <tr>\n",
       "      <th>2198</th>\n",
       "      <td>26.272418</td>\n",
       "      <td>52.127394</td>\n",
       "      <td>6.758793</td>\n",
       "      <td>127.175293</td>\n",
       "      <td>coffee</td>\n",
       "    </tr>\n",
       "    <tr>\n",
       "      <th>2199</th>\n",
       "      <td>23.603016</td>\n",
       "      <td>60.396475</td>\n",
       "      <td>6.779833</td>\n",
       "      <td>140.937041</td>\n",
       "      <td>coffee</td>\n",
       "    </tr>\n",
       "  </tbody>\n",
       "</table>\n",
       "</div>"
      ],
      "text/plain": [
       "      temperature   humidity        ph    rainfall   label\n",
       "2195    26.774637  66.413269  6.780064  177.774507  coffee\n",
       "2196    27.417112  56.636362  6.086922  127.924610  coffee\n",
       "2197    24.131797  67.225123  6.362608  173.322839  coffee\n",
       "2198    26.272418  52.127394  6.758793  127.175293  coffee\n",
       "2199    23.603016  60.396475  6.779833  140.937041  coffee"
      ]
     },
     "execution_count": 36,
     "metadata": {},
     "output_type": "execute_result"
    }
   ],
   "source": [
    "df.tail()"
   ]
  },
  {
   "cell_type": "code",
   "execution_count": 37,
   "id": "ccf8811e-f577-4ec4-835f-d62afd478c64",
   "metadata": {},
   "outputs": [
    {
     "data": {
      "text/plain": [
       "Index(['temperature', 'humidity', 'ph', 'rainfall', 'label'], dtype='object')"
      ]
     },
     "execution_count": 37,
     "metadata": {},
     "output_type": "execute_result"
    }
   ],
   "source": [
    "df.columns"
   ]
  },
  {
   "cell_type": "code",
   "execution_count": 38,
   "id": "5af23103-74f8-43a3-83d4-504263c75daf",
   "metadata": {},
   "outputs": [
    {
     "data": {
      "text/plain": [
       "array(['rice', 'maize', 'chickpea', 'kidneybeans', 'pigeonpeas',\n",
       "       'mothbeans', 'mungbean', 'blackgram', 'lentil', 'pomegranate',\n",
       "       'banana', 'mango', 'grapes', 'watermelon', 'muskmelon', 'apple',\n",
       "       'orange', 'papaya', 'coconut', 'cotton', 'jute', 'coffee'],\n",
       "      dtype=object)"
      ]
     },
     "execution_count": 38,
     "metadata": {},
     "output_type": "execute_result"
    }
   ],
   "source": [
    "df['label'].unique()"
   ]
  },
  {
   "cell_type": "code",
   "execution_count": 39,
   "id": "bc64c93c-acdb-4ed5-b0ea-69f8ed95450d",
   "metadata": {},
   "outputs": [
    {
     "data": {
      "text/plain": [
       "temperature    float64\n",
       "humidity       float64\n",
       "ph             float64\n",
       "rainfall       float64\n",
       "label           object\n",
       "dtype: object"
      ]
     },
     "execution_count": 39,
     "metadata": {},
     "output_type": "execute_result"
    }
   ],
   "source": [
    "df.dtypes"
   ]
  },
  {
   "cell_type": "code",
   "execution_count": 40,
   "id": "ee452cf2-2421-42ab-9b32-bbcd501d0a90",
   "metadata": {},
   "outputs": [
    {
     "data": {
      "text/plain": [
       "rice           100\n",
       "maize          100\n",
       "jute           100\n",
       "cotton         100\n",
       "coconut        100\n",
       "papaya         100\n",
       "orange         100\n",
       "apple          100\n",
       "muskmelon      100\n",
       "watermelon     100\n",
       "grapes         100\n",
       "mango          100\n",
       "banana         100\n",
       "pomegranate    100\n",
       "lentil         100\n",
       "blackgram      100\n",
       "mungbean       100\n",
       "mothbeans      100\n",
       "pigeonpeas     100\n",
       "kidneybeans    100\n",
       "chickpea       100\n",
       "coffee         100\n",
       "Name: label, dtype: int64"
      ]
     },
     "execution_count": 40,
     "metadata": {},
     "output_type": "execute_result"
    }
   ],
   "source": [
    "df['label'].value_counts()"
   ]
  },
  {
   "cell_type": "code",
   "execution_count": 41,
   "id": "cf1a2ac6-ae91-4b14-9112-e08d0396a09e",
   "metadata": {},
   "outputs": [],
   "source": [
    "features = df[['temperature', 'humidity', 'ph', 'rainfall']]\n",
    "target = df['label']\n",
    "labels = df['label']"
   ]
  },
  {
   "cell_type": "code",
   "execution_count": 42,
   "id": "22bb8fd1-8d15-4bdd-9187-d1e8191046fa",
   "metadata": {},
   "outputs": [],
   "source": [
    "acc = []\n",
    "model = []"
   ]
  },
  {
   "cell_type": "code",
   "execution_count": 43,
   "id": "f8b9c2be-85a7-4481-9149-213cf63914fd",
   "metadata": {},
   "outputs": [],
   "source": [
    "from sklearn.model_selection import train_test_split\n",
    "Xtrain, Xtest, Ytrain, Ytest = train_test_split(features,target,test_size = 0.2,random_state =2)"
   ]
  },
  {
   "cell_type": "code",
   "execution_count": 44,
   "id": "c0c7c64c-0e09-4518-993f-d3d273dac7d9",
   "metadata": {},
   "outputs": [
    {
     "name": "stdout",
     "output_type": "stream",
     "text": [
      "K-NN's Accuracy is:  0.8568181818181818\n",
      "              precision    recall  f1-score   support\n",
      "\n",
      "       apple       0.46      0.85      0.59        13\n",
      "      banana       0.94      0.94      0.94        17\n",
      "   blackgram       0.64      1.00      0.78        16\n",
      "    chickpea       1.00      1.00      1.00        21\n",
      "     coconut       0.66      1.00      0.79        21\n",
      "      coffee       0.75      0.95      0.84        22\n",
      "      cotton       0.87      1.00      0.93        20\n",
      "      grapes       1.00      0.94      0.97        18\n",
      "        jute       0.92      0.79      0.85        28\n",
      " kidneybeans       1.00      1.00      1.00        14\n",
      "      lentil       0.92      1.00      0.96        23\n",
      "       maize       0.95      0.86      0.90        21\n",
      "       mango       0.96      1.00      0.98        26\n",
      "   mothbeans       1.00      0.53      0.69        19\n",
      "    mungbean       0.92      0.92      0.92        24\n",
      "   muskmelon       1.00      1.00      1.00        23\n",
      "      orange       0.91      0.69      0.78        29\n",
      "      papaya       1.00      0.53      0.69        19\n",
      "  pigeonpeas       1.00      0.50      0.67        18\n",
      " pomegranate       0.64      0.53      0.58        17\n",
      "        rice       0.88      0.88      0.88        16\n",
      "  watermelon       0.88      0.93      0.90        15\n",
      "\n",
      "    accuracy                           0.86       440\n",
      "   macro avg       0.88      0.86      0.85       440\n",
      "weighted avg       0.89      0.86      0.85       440\n",
      "\n"
     ]
    }
   ],
   "source": [
    "from sklearn.neighbors import KNeighborsClassifier  \n",
    "KNN = KNeighborsClassifier(n_neighbors=5, metric='minkowski', p=2 ) \n",
    "KNN.fit(Xtrain,Ytrain)\n",
    "predicted_values = KNN.predict(Xtest)\n",
    "x = metrics.accuracy_score(Ytest, predicted_values)\n",
    "acc.append(x)\n",
    "model.append('K-Nearest Neighbor')\n",
    "print(\"K-NN's Accuracy is: \", x)\n",
    "print(classification_report(Ytest,predicted_values))"
   ]
  },
  {
   "cell_type": "code",
   "execution_count": 45,
   "id": "3224c30c-2ad0-4fb7-9f8a-aeff9d833f2d",
   "metadata": {},
   "outputs": [
    {
     "data": {
      "text/plain": [
       "array([0.86363636, 0.85227273, 0.87272727, 0.85227273, 0.87954545])"
      ]
     },
     "execution_count": 45,
     "metadata": {},
     "output_type": "execute_result"
    }
   ],
   "source": [
    "from sklearn.model_selection import cross_val_score\n",
    "score = cross_val_score(KNN,features,target,cv=5)\n",
    "score"
   ]
  },
  {
   "cell_type": "code",
   "execution_count": 46,
   "id": "8493afb9-bbbf-40c5-837e-67892928ec50",
   "metadata": {},
   "outputs": [],
   "source": [
    "import pickle\n",
    "LR_pkl_filename = 'KNN.pkl'\n",
    "LR_Model_pkl = open(LR_pkl_filename, 'wb')\n",
    "pickle.dump(KNN, LR_Model_pkl)\n",
    "LR_Model_pkl.close()"
   ]
  },
  {
   "cell_type": "code",
   "execution_count": 47,
   "id": "591fa24f-c6b4-4c3e-8c9c-849462933b2e",
   "metadata": {},
   "outputs": [
    {
     "name": "stdout",
     "output_type": "stream",
     "text": [
      "RF's Accuracy is:  0.9727272727272728\n",
      "              precision    recall  f1-score   support\n",
      "\n",
      "       apple       0.93      1.00      0.96        13\n",
      "      banana       1.00      1.00      1.00        17\n",
      "   blackgram       1.00      0.94      0.97        16\n",
      "    chickpea       1.00      1.00      1.00        21\n",
      "     coconut       1.00      1.00      1.00        21\n",
      "      coffee       1.00      1.00      1.00        22\n",
      "      cotton       0.95      1.00      0.98        20\n",
      "      grapes       1.00      0.94      0.97        18\n",
      "        jute       0.88      1.00      0.93        28\n",
      " kidneybeans       1.00      1.00      1.00        14\n",
      "      lentil       1.00      1.00      1.00        23\n",
      "       maize       0.95      1.00      0.98        21\n",
      "       mango       0.96      1.00      0.98        26\n",
      "   mothbeans       1.00      1.00      1.00        19\n",
      "    mungbean       1.00      1.00      1.00        24\n",
      "   muskmelon       1.00      1.00      1.00        23\n",
      "      orange       0.93      0.93      0.93        29\n",
      "      papaya       1.00      1.00      1.00        19\n",
      "  pigeonpeas       1.00      0.94      0.97        18\n",
      " pomegranate       0.88      0.82      0.85        17\n",
      "        rice       1.00      0.75      0.86        16\n",
      "  watermelon       1.00      1.00      1.00        15\n",
      "\n",
      "    accuracy                           0.97       440\n",
      "   macro avg       0.98      0.97      0.97       440\n",
      "weighted avg       0.97      0.97      0.97       440\n",
      "\n"
     ]
    }
   ],
   "source": [
    "from sklearn.ensemble import RandomForestClassifier\n",
    "RF = RandomForestClassifier(n_estimators=20, random_state=0)\n",
    "RF.fit(Xtrain,Ytrain)\n",
    "predicted_values = RF.predict(Xtest)\n",
    "x = metrics.accuracy_score(Ytest, predicted_values)\n",
    "acc.append(x)\n",
    "model.append('Random Forest')\n",
    "print(\"RF's Accuracy is: \", x)\n",
    "print(classification_report(Ytest,predicted_values))"
   ]
  },
  {
   "cell_type": "code",
   "execution_count": 48,
   "id": "335fa945-f7ee-416a-a865-cb79da586c39",
   "metadata": {},
   "outputs": [
    {
     "data": {
      "text/plain": [
       "array([0.96363636, 0.96818182, 0.96136364, 0.95454545, 0.95454545])"
      ]
     },
     "execution_count": 48,
     "metadata": {},
     "output_type": "execute_result"
    }
   ],
   "source": [
    "score = cross_val_score(RF,features,target,cv=5)\n",
    "score"
   ]
  },
  {
   "cell_type": "code",
   "execution_count": 49,
   "id": "b7dc3446-9e71-4b84-8fd6-e2a23658d22e",
   "metadata": {},
   "outputs": [],
   "source": [
    "import pickle\n",
    "RF_pkl_filename = 'RandomForest.pkl'\n",
    "RF_Model_pkl = open(RF_pkl_filename, 'wb')\n",
    "pickle.dump(RF, RF_Model_pkl)\n",
    "RF_Model_pkl.close()"
   ]
  },
  {
   "cell_type": "code",
   "execution_count": 50,
   "id": "47b1af3c-b2f8-4878-b8ca-161873ad3b4e",
   "metadata": {},
   "outputs": [
    {
     "name": "stdout",
     "output_type": "stream",
     "text": [
      "DecisionTrees's Accuracy is:  82.72727272727273\n",
      "              precision    recall  f1-score   support\n",
      "\n",
      "       apple       0.81      1.00      0.90        13\n",
      "      banana       0.71      1.00      0.83        17\n",
      "   blackgram       0.64      1.00      0.78        16\n",
      "    chickpea       1.00      1.00      1.00        21\n",
      "     coconut       0.95      1.00      0.98        21\n",
      "      coffee       0.59      1.00      0.75        22\n",
      "      cotton       1.00      0.30      0.46        20\n",
      "      grapes       0.72      1.00      0.84        18\n",
      "        jute       0.85      1.00      0.92        28\n",
      " kidneybeans       1.00      1.00      1.00        14\n",
      "      lentil       1.00      0.96      0.98        23\n",
      "       maize       0.95      0.95      0.95        21\n",
      "       mango       0.93      1.00      0.96        26\n",
      "   mothbeans       0.92      0.58      0.71        19\n",
      "    mungbean       1.00      1.00      1.00        24\n",
      "   muskmelon       1.00      1.00      1.00        23\n",
      "      orange       0.55      0.41      0.47        29\n",
      "      papaya       0.59      0.84      0.70        19\n",
      "  pigeonpeas       0.00      0.00      0.00        18\n",
      " pomegranate       0.67      0.47      0.55        17\n",
      "        rice       1.00      0.69      0.81        16\n",
      "  watermelon       1.00      1.00      1.00        15\n",
      "\n",
      "    accuracy                           0.83       440\n",
      "   macro avg       0.81      0.83      0.80       440\n",
      "weighted avg       0.82      0.83      0.80       440\n",
      "\n"
     ]
    }
   ],
   "source": [
    "from sklearn.tree import DecisionTreeClassifier\n",
    "DecisionTree = DecisionTreeClassifier(criterion=\"entropy\",random_state=2,max_depth=5)\n",
    "DecisionTree.fit(Xtrain,Ytrain)\n",
    "predicted_values = DecisionTree.predict(Xtest)\n",
    "x = metrics.accuracy_score(Ytest, predicted_values)\n",
    "acc.append(x)\n",
    "model.append('Decision Tree')\n",
    "print(\"DecisionTrees's Accuracy is: \", x*100)\n",
    "print(classification_report(Ytest,predicted_values))"
   ]
  },
  {
   "cell_type": "code",
   "execution_count": 51,
   "id": "78fcd7f9-ec55-4521-9327-f798941a512d",
   "metadata": {},
   "outputs": [
    {
     "data": {
      "text/plain": [
       "array([0.82727273, 0.82954545, 0.83181818, 0.84090909, 0.83409091])"
      ]
     },
     "execution_count": 51,
     "metadata": {},
     "output_type": "execute_result"
    }
   ],
   "source": [
    "score = cross_val_score(DecisionTree, features, target,cv=5)\n",
    "score"
   ]
  },
  {
   "cell_type": "code",
   "execution_count": 52,
   "id": "58498d2f-1b35-4610-8ba3-cec2748fb04a",
   "metadata": {},
   "outputs": [],
   "source": [
    "import pickle\n",
    "DT_pkl_filename = 'DecisionTree.pkl'\n",
    "DT_Model_pkl = open(DT_pkl_filename, 'wb')\n",
    "pickle.dump(DecisionTree, DT_Model_pkl)\n",
    "DT_Model_pkl.close()"
   ]
  },
  {
   "cell_type": "code",
   "execution_count": 53,
   "id": "75418077-684f-4298-9c31-4455352e8a65",
   "metadata": {},
   "outputs": [
    {
     "name": "stdout",
     "output_type": "stream",
     "text": [
      "Logistic Regression's Accuracy is:  0.6545454545454545\n",
      "              precision    recall  f1-score   support\n",
      "\n",
      "       apple       0.69      0.85      0.76        13\n",
      "      banana       0.50      0.71      0.59        17\n",
      "   blackgram       0.54      0.81      0.65        16\n",
      "    chickpea       0.95      0.95      0.95        21\n",
      "     coconut       0.52      0.71      0.60        21\n",
      "      coffee       0.89      0.73      0.80        22\n",
      "      cotton       0.77      0.50      0.61        20\n",
      "      grapes       0.65      0.61      0.63        18\n",
      "        jute       0.64      0.57      0.60        28\n",
      " kidneybeans       0.69      0.79      0.73        14\n",
      "      lentil       0.71      0.65      0.68        23\n",
      "       maize       0.59      0.48      0.53        21\n",
      "       mango       0.93      1.00      0.96        26\n",
      "   mothbeans       0.80      0.63      0.71        19\n",
      "    mungbean       0.68      0.62      0.65        24\n",
      "   muskmelon       1.00      1.00      1.00        23\n",
      "      orange       0.43      0.34      0.38        29\n",
      "      papaya       0.06      0.05      0.06        19\n",
      "  pigeonpeas       0.67      0.44      0.53        18\n",
      " pomegranate       0.37      0.41      0.39        17\n",
      "        rice       0.69      0.69      0.69        16\n",
      "  watermelon       0.62      1.00      0.77        15\n",
      "\n",
      "    accuracy                           0.65       440\n",
      "   macro avg       0.65      0.66      0.65       440\n",
      "weighted avg       0.66      0.65      0.65       440\n",
      "\n"
     ]
    }
   ],
   "source": [
    "from sklearn.linear_model import LogisticRegression\n",
    "LogReg = LogisticRegression(random_state=2)\n",
    "LogReg.fit(Xtrain,Ytrain)\n",
    "predicted_values = LogReg.predict(Xtest)\n",
    "x = metrics.accuracy_score(Ytest, predicted_values)\n",
    "acc.append(x)\n",
    "model.append('Logistic Regression')\n",
    "print(\"Logistic Regression's Accuracy is: \", x)\n",
    "print(classification_report(Ytest,predicted_values))"
   ]
  },
  {
   "cell_type": "code",
   "execution_count": 54,
   "id": "80ae5413-7c47-40a5-a4f4-873f973f598b",
   "metadata": {},
   "outputs": [
    {
     "data": {
      "text/plain": [
       "array([0.66363636, 0.63863636, 0.6       , 0.67272727, 0.66136364])"
      ]
     },
     "execution_count": 54,
     "metadata": {},
     "output_type": "execute_result"
    }
   ],
   "source": [
    "score = cross_val_score(LogReg,features,target,cv=5)\n",
    "score"
   ]
  },
  {
   "cell_type": "code",
   "execution_count": 55,
   "id": "0e49a93d-e24d-4ea8-9341-b50b75264e23",
   "metadata": {},
   "outputs": [],
   "source": [
    "import pickle\n",
    "LG_pkl_filename = 'LosgisticRegression.pkl'\n",
    "LG_Model_pkl = open(LG_pkl_filename, 'wb')\n",
    "pickle.dump(LogReg, LG_Model_pkl)\n",
    "LR_Model_pkl.close()"
   ]
  },
  {
   "cell_type": "code",
   "execution_count": 56,
   "id": "4cff3f31-ad86-4afb-9020-e830a81f9ec5",
   "metadata": {},
   "outputs": [
    {
     "data": {
      "text/plain": [
       "<AxesSubplot:title={'center':'Accuracy Comparison'}, xlabel='Accuracy', ylabel='Algorithm'>"
      ]
     },
     "execution_count": 56,
     "metadata": {},
     "output_type": "execute_result"
    },
    {
     "data": {
      "image/png": "[encoded data removed]",
      "text/plain": [
       "<Figure size 1000x500 with 1 Axes>"
      ]
     },
     "metadata": {
      "needs_background": "light"
     },
     "output_type": "display_data"
    }
   ],
   "source": [
    "plt.figure(figsize=[10,5],dpi = 100)\n",
    "plt.title('Accuracy Comparison')\n",
    "plt.xlabel('Accuracy')\n",
    "plt.ylabel('Algorithm')\n",
    "sns.barplot(x = acc,y = model,palette='dark')"
   ]
  },
  {
   "cell_type": "code",
   "execution_count": 57,
   "id": "6fb78320-399c-4b01-9e77-0a9e3153530f",
   "metadata": {},
   "outputs": [
    {
     "name": "stdout",
     "output_type": "stream",
     "text": [
      "K-Nearest Neighbor --> 0.8568181818181818\n",
      "Random Forest --> 0.9727272727272728\n",
      "Decision Tree --> 0.8272727272727273\n",
      "Logistic Regression --> 0.6545454545454545\n"
     ]
    }
   ],
   "source": [
    "accuracy_models = dict(zip(model, acc))\n",
    "for k, v in accuracy_models.items():\n",
    "    print (k, '-->', v)"
   ]
  },
  {
   "cell_type": "code",
   "execution_count": 62,
   "id": "c88a0898-6544-472c-8a15-6889ea441db8",
   "metadata": {},
   "outputs": [
    {
     "name": "stdout",
     "output_type": "stream",
     "text": [
      "['coffee']\n"
     ]
    }
   ],
   "source": [
    "data = np.array([[23, 60, 6, 140.]])\n",
    "prediction = RF.predict(data)\n",
    "print(prediction)"
   ]
  },
  {
   "cell_type": "code",
   "execution_count": 59,
   "id": "42cd420e-0f1e-4961-bfe7-cd0be167e461",
   "metadata": {},
   "outputs": [
    {
     "name": "stdout",
     "output_type": "stream",
     "text": [
      "['pigeonpeas']\n"
     ]
    }
   ],
   "source": [
    "data = np.array([[40, 30, 3, 102]])\n",
    "prediction = KNN.predict(data)\n",
    "print(prediction)"
   ]
  },
  {
   "cell_type": "code",
   "execution_count": 60,
   "id": "789969cf-de1d-4f30-8c58-1bae978d88c6",
   "metadata": {},
   "outputs": [],
   "source": [
    "# import firebase_admin\n",
    "# from firebase_admin import credentials\n",
    "# from firebase_admin import db\n",
    "\n",
    "# # Fetch the service account key JSON file contents\n",
    "# cred = credentials.Certificate('C:/Users/Swarup/Documents/Final Project/db-8266.json')\n",
    "# # Initialize the app with a service account, granting admin privileges\n",
    "# firebase_admin.initialize_app(cred, {\n",
    "#     'databaseURL': \"https://db-8266-default-rtdb.firebaseio.com/\"\n",
    "# })\n",
    "\n",
    "# ref = db.reference('db-8266-default-rtdb/Humidity')\n",
    "# ref = db.reference('/db-8266-default-rtdb')\n",
    "# print(ref.get())\n",
    "# tp=firebase.get('db-8266-default-rtdb',None)\n",
    "# ah=tp['Temperature']\n",
    "# atemp=tp['Moisture']\n",
    "# shum=tp['Humidity']\n",
    "# pH=tp['pH']\n",
    "# rain=tp['LDR']\n",
    "# print(tp)\n",
    "# print(pH)\n",
    "# print(ref.get())\n"
   ]
  },
  {
   "cell_type": "code",
   "execution_count": 61,
   "id": "e226e2a2-d10d-42ee-870e-9b6bb6a4341b",
   "metadata": {},
   "outputs": [
    {
     "name": "stdout",
     "output_type": "stream",
     "text": [
      "['pigeonpeas']\n"
     ]
    }
   ],
   "source": [
    "import firebase_admin\n",
    "from firebase_admin import credentials\n",
    "from firebase_admin import db\n",
    "\n",
    "#run these if firebase asks for credentials / initialization.\n",
    "# cred = credentials.Certificate('C:/Users/Swarup/Documents/Final Project/db-8266.json')\n",
    "# firebase_admin.initialize_app(cred, {\n",
    "#     'databaseURL': \"https://db-8266-default-rtdb.firebaseio.com/\"\n",
    "# })\n",
    "if not firebase_admin._apps:\n",
    "    cred = credentials.Certificate(r'C:\\Users\\Siddhi\\Downloads\\Final-Year-Project-master (4)\\Final-Year-Project-masterML/db-8211.json') \n",
    "    default_app = firebase_admin.initialize_app(cred, {\n",
    "     'databaseURL': \"https://crop-recommendation-syst-ae1ec-default-rtdb.firebaseio.com\"})\n",
    "\n",
    "ref = db.reference('/Temperature')\n",
    "temp = ref.get()\n",
    "ref = db.reference('/Humidity')\n",
    "hum = ref.get()\n",
    "ref = db.reference('/pH')\n",
    "ph = ref.get()\n",
    "ref = db.reference('/Moisture')\n",
    "moist = ref.get()\n",
    "data = np.array([[temp, hum, ph, moist]])\n",
    "prediction = RF.predict(data)\n",
    "print(prediction)"
   ]
  }
 ],
 "metadata": {
  "kernelspec": {
   "display_name": "Python 3 (ipykernel)",
   "language": "python",
   "name": "python3"
  },
  "language_info": {
   "codemirror_mode": {
    "name": "ipython",
    "version": 3
   },
   "file_extension": ".py",
   "mimetype": "text/x-python",
   "name": "python",
   "nbconvert_exporter": "python",
   "pygments_lexer": "ipython3",
   "version": "3.10.1"
  }
 },
 "nbformat": 4,
 "nbformat_minor": 5
}
